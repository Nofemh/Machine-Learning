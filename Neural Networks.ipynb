{
 "cells": [
  {
   "cell_type": "markdown",
   "id": "6f5546c0",
   "metadata": {},
   "source": [
    "# Implementing Neural Networks using Scikit Learn"
   ]
  },
  {
   "cell_type": "markdown",
   "id": "4bb0ab02",
   "metadata": {},
   "source": [
    "## Iris Prediction "
   ]
  },
  {
   "cell_type": "code",
   "execution_count": null,
   "id": "6f28ac87",
   "metadata": {},
   "outputs": [],
   "source": [
    "import pandas as pd\n",
    "from sklearn.model_selection import train_test_split\n",
    "from sklearn.linear_model import Perceptron\n",
    "\n",
    "path = \"https://archive.ics.uci.edu/ml/machine-learning-databases/iris/iris.data\"\n",
    "headernames = ['sepal-length', 'sepal-width', 'petal-length', 'petal-width', 'Class']\n",
    "dataset = pd.read_csv(path, names=headernames) \n",
    "dataset.head()"
   ]
  },
  {
   "cell_type": "code",
   "execution_count": null,
   "id": "f3c69655",
   "metadata": {},
   "outputs": [],
   "source": [
    "X = dataset.iloc[:, :-1].values\n",
    "y = dataset.iloc[:, 4].values"
   ]
  },
  {
   "cell_type": "code",
   "execution_count": null,
   "id": "216ab4aa",
   "metadata": {},
   "outputs": [],
   "source": [
    "# Split the dataset into training and testing sets\n",
    "X_train, X_test, y_train, y_test = train_test_split(X, y, test_size=0.3, random_state=1, stratify=y)"
   ]
  },
  {
   "cell_type": "markdown",
   "id": "0ba8761b",
   "metadata": {},
   "source": [
    "## Perceptron "
   ]
  },
  {
   "cell_type": "raw",
   "id": "7c697684",
   "metadata": {},
   "source": [
    "class sklearn.linear_model.Perceptron(*, penalty=None, alpha=0.0001, l1_ratio=0.15, fit_intercept=True, max_iter=1000, tol=0.001, shuffle=True, verbose=0, eta0=1.0, n_jobs=None, random_state=0, early_stopping=False, validation_fraction=0.1, n_iter_no_change=5, class_weight=None, warm_start=False)"
   ]
  },
  {
   "cell_type": "markdown",
   "id": "aadfae79",
   "metadata": {},
   "source": [
    "https://scikit-learn.org/stable/modules/generated/sklearn.linear_model.Perceptron.html"
   ]
  },
  {
   "cell_type": "code",
   "execution_count": null,
   "id": "fea6bea5",
   "metadata": {},
   "outputs": [],
   "source": [
    "classifier = Perceptron()\n",
    "classifier.fit(X_train, y_train)"
   ]
  },
  {
   "cell_type": "code",
   "execution_count": null,
   "id": "cfd3845e",
   "metadata": {},
   "outputs": [],
   "source": [
    "trainingAccuracy = classifier.score(X_train, y_train) \n",
    "print(\"Training Accuracy:\",trainingAccuracy)"
   ]
  },
  {
   "cell_type": "code",
   "execution_count": null,
   "id": "384b37c5",
   "metadata": {},
   "outputs": [],
   "source": [
    "testAccuracy = classifier.score(X_test, y_test) \n",
    "print(\"Testing Accuracy:\",testAccuracy)"
   ]
  },
  {
   "cell_type": "markdown",
   "id": "79bc0385",
   "metadata": {},
   "source": [
    "## MLP "
   ]
  },
  {
   "cell_type": "raw",
   "id": "30ecb294",
   "metadata": {},
   "source": [
    "class sklearn.neural_network.MLPClassifier(hidden_layer_sizes=(100,), activation='relu', solver='adam', alpha=0.0001, batch_size='auto', learning_rate='constant', learning_rate_init=0.001, power_t=0.5, max_iter=200, shuffle=True, random_state=None, tol=0.0001, verbose=False, warm_start=False, momentum=0.9, nesterovs_momentum=True, early_stopping=False, validation_fraction=0.1, beta_1=0.9, beta_2=0.999, epsilon=1e-08, n_iter_no_change=10, max_fun=15000)"
   ]
  },
  {
   "cell_type": "raw",
   "id": "a0fcdc9a",
   "metadata": {},
   "source": [
    "hidden_layer_sizes: Specify the number of layers and the number of nodes we want to have in the Neural Network Classifier. Each element in the tuple represents the number of nodes at the ith position, where i is the index of the tuple. Thus, the length of the tuple indicates the total number of hidden layers in the neural network. Default hidden_layer_sizes=(100,) means if no value is provided for hidden_layer_sizes then default architecture will have one input layer, one hidden layer with 100 units of neuron and one output layer.\n",
    "max_iter: Indicates the number of epochs.\n",
    "activation: The activation function for the hidden layers.\n",
    "solver: This parameter specifies the algorithm for weight optimization over the nodes."
   ]
  },
  {
   "cell_type": "markdown",
   "id": "9ae1d4cd",
   "metadata": {},
   "source": [
    "https://scikit-learn.org/stable/modules/generated/sklearn.neural_network.MLPClassifier.html#sklearn.neural_network.MLPClassifier"
   ]
  },
  {
   "cell_type": "code",
   "execution_count": null,
   "id": "15256be1",
   "metadata": {},
   "outputs": [],
   "source": [
    "from sklearn.neural_network import MLPClassifier\n",
    "mlp = MLPClassifier()\n",
    "mlp.fit(X_train, y_train)\n",
    "trainingAccuracy = mlp.score(X_train, y_train) \n",
    "print(\"Training Accuracy:\",trainingAccuracy)\n",
    "testAccuracy = mlp.score(X_test, y_test) \n",
    "print(\"Testing Accuracy:\",testAccuracy)"
   ]
  },
  {
   "cell_type": "raw",
   "id": "0ef2b570",
   "metadata": {},
   "source": [
    "Reason for overfitting:\n",
    "Using a complex model for a simple problem."
   ]
  },
  {
   "cell_type": "markdown",
   "id": "9c64a221",
   "metadata": {},
   "source": [
    "## Diabetes Prediction "
   ]
  },
  {
   "cell_type": "code",
   "execution_count": null,
   "id": "ca072aec",
   "metadata": {},
   "outputs": [],
   "source": [
    "df = pd.read_csv(\"diabetes.csv\")\n",
    "df.head()"
   ]
  },
  {
   "cell_type": "code",
   "execution_count": null,
   "id": "9c1541b8",
   "metadata": {},
   "outputs": [],
   "source": [
    "# Setting features (X) and target (y)\n",
    "X2 = df.iloc[:,:-1].values\n",
    "y2 = df.iloc[:,8].values"
   ]
  },
  {
   "cell_type": "code",
   "execution_count": null,
   "id": "0dd85c84",
   "metadata": {},
   "outputs": [],
   "source": [
    "# Split the dataset into training and testing sets\n",
    "X2_train, X2_test, y2_train, y2_test = train_test_split(X2, y2, test_size=0.2, random_state=1, stratify=y2)"
   ]
  },
  {
   "cell_type": "code",
   "execution_count": null,
   "id": "d45b7b34",
   "metadata": {},
   "outputs": [],
   "source": [
    "classifier.fit(X2_train, y2_train)\n",
    "trainingAccuracy = classifier.score(X2_train, y2_train) \n",
    "print(\"Training Accuracy:\",trainingAccuracy)\n",
    "testAccuracy = classifier.score(X2_test, y2_test) \n",
    "print(\"Testing Accuracy:\",testAccuracy)"
   ]
  },
  {
   "cell_type": "code",
   "execution_count": null,
   "id": "d57026b1",
   "metadata": {},
   "outputs": [],
   "source": [
    "mlp.fit(X2_train, y2_train)\n",
    "trainingAccuracy = mlp.score(X2_train, y2_train) \n",
    "print(\"Training Accuracy:\",trainingAccuracy)\n",
    "testAccuracy = mlp.score(X2_test, y2_test) \n",
    "print(\"Testing Accuracy:\",testAccuracy)"
   ]
  },
  {
   "cell_type": "raw",
   "id": "d29bc81c",
   "metadata": {},
   "source": [
    "Possible reason for underfitting: \n",
    "The size of the training dataset used is not enough.\n",
    "The model is too simple.\n",
    "Training data is not cleaned and also contains noise in it.\n",
    "Features are not scaled."
   ]
  },
  {
   "cell_type": "code",
   "execution_count": null,
   "id": "531b1d9f",
   "metadata": {},
   "outputs": [],
   "source": [
    "from sklearn import preprocessing\n",
    "mm_scaler = preprocessing.MinMaxScaler()\n",
    "X_mm = mm_scaler.fit_transform(X2)"
   ]
  },
  {
   "cell_type": "code",
   "execution_count": null,
   "id": "780d566f",
   "metadata": {},
   "outputs": [],
   "source": [
    "# Split the dataset into training and testing sets\n",
    "X3_train, X3_test, y3_train, y3_test = train_test_split(X_mm, y2, test_size=0.1, random_state=42, stratify=y2)"
   ]
  },
  {
   "cell_type": "code",
   "execution_count": null,
   "id": "990db9e4",
   "metadata": {},
   "outputs": [],
   "source": [
    "classifier.fit(X3_train, y3_train)\n",
    "trainingAccuracy = classifier.score(X3_train, y3_train) \n",
    "print(\"Training Accuracy:\",trainingAccuracy)\n",
    "testAccuracy = classifier.score(X3_test, y3_test) \n",
    "print(\"Testing Accuracy:\",testAccuracy)"
   ]
  },
  {
   "cell_type": "code",
   "execution_count": null,
   "id": "539b79ab",
   "metadata": {},
   "outputs": [],
   "source": [
    "mlp.fit(X3_train, y3_train)\n",
    "trainingAccuracy = mlp.score(X3_train, y3_train) \n",
    "print(\"Training Accuracy:\",trainingAccuracy)\n",
    "testAccuracy = mlp.score(X3_test, y3_test) \n",
    "print(\"Testing Accuracy:\",testAccuracy)"
   ]
  },
  {
   "cell_type": "code",
   "execution_count": null,
   "id": "46b9e8e9",
   "metadata": {},
   "outputs": [],
   "source": [
    "classifier2 = Perceptron(penalty='l2', max_iter=5000, random_state=100)\n",
    "classifier2.fit(X3_train, y3_train)\n",
    "trainingAccuracy = classifier2.score(X3_train, y3_train) \n",
    "print(\"Training Accuracy:\",trainingAccuracy)\n",
    "testAccuracy = classifier2.score(X3_test, y3_test) \n",
    "print(\"Testing Accuracy:\",testAccuracy)"
   ]
  },
  {
   "cell_type": "code",
   "execution_count": null,
   "id": "2d80b77b",
   "metadata": {},
   "outputs": [],
   "source": [
    "mlp2 = MLPClassifier(hidden_layer_sizes=(100,), activation='relu', solver='adam', alpha=0.0001, learning_rate_init=0.01, batch_size=50, random_state=0)\n",
    "mlp2.fit(X3_train, y3_train)\n",
    "trainingAccuracy = mlp2.score(X3_train, y3_train) \n",
    "print(\"Training Accuracy:\",trainingAccuracy)\n",
    "testAccuracy = mlp2.score(X3_test, y3_test) \n",
    "print(\"Testing Accuracy:\",testAccuracy)"
   ]
  },
  {
   "cell_type": "code",
   "execution_count": null,
   "id": "64f9e57a",
   "metadata": {},
   "outputs": [],
   "source": [
    "mlp3 = MLPClassifier(hidden_layer_sizes=(100,50), activation='relu', solver='adam', alpha=0.001, learning_rate_init=0.01, batch_size=50, random_state=100)\n",
    "mlp3.fit(X3_train, y3_train)\n",
    "trainingAccuracy = mlp3.score(X3_train, y3_train) \n",
    "print(\"Training Accuracy:\",trainingAccuracy)\n",
    "testAccuracy = mlp3.score(X3_test, y3_test) \n",
    "print(\"Testing Accuracy:\",testAccuracy)"
   ]
  },
  {
   "cell_type": "code",
   "execution_count": null,
   "id": "c82e5d9c",
   "metadata": {},
   "outputs": [],
   "source": []
  }
 ],
 "metadata": {
  "kernelspec": {
   "display_name": "Python 3 (ipykernel)",
   "language": "python",
   "name": "python3"
  },
  "language_info": {
   "codemirror_mode": {
    "name": "ipython",
    "version": 3
   },
   "file_extension": ".py",
   "mimetype": "text/x-python",
   "name": "python",
   "nbconvert_exporter": "python",
   "pygments_lexer": "ipython3",
   "version": "3.9.7"
  }
 },
 "nbformat": 4,
 "nbformat_minor": 5
}
