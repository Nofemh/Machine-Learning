{
 "cells": [
  {
   "cell_type": "markdown",
   "metadata": {},
   "source": [
    "# Assignment 5 - Unsupervised Learning\n",
    "##  User Knowledge Modeling\n"
   ]
  },
  {
   "cell_type": "markdown",
   "metadata": {},
   "source": [
    "### Data Set Information:\n",
    "\n",
    "This is a subset from UCI User Knowledge Modeling Data Set [Link](https://archive.ics.uci.edu/ml/datasets/User+Knowledge+Modeling)\n",
    "\n",
    "The users' knowledge class were classified by the authors and consists of 258 records.\n",
    "\n",
    "\n",
    "\n",
    "### Attribute Information:\n",
    "\n",
    "- STG (The degree of study time for goal object materails) (input value)\n",
    "- SCG (The degree of repetition number of user for goal object materails) (input value)\n",
    "- STR (The degree of study time of user for related objects with goal object) (input value)\n",
    "- LPR (The exam performance of user for related objects with goal object) (input value)\n",
    "- PEG (The exam performance of user for goal objects) (input value)\n",
    "- UNS (The knowledge level of user) (target value)\n",
    "    - labels: Very Low, Low, Middle, High\n",
    "\n",
    "### Main Task:\n",
    "Aplly different clustering models on this dataset and different clustering values, first including alll features, and then trying only some subset of the features (e.g. STG, SCG, PEG, UNS). \n",
    "\n",
    "Which model & features set gives better clusters and based on whsich measures? \n",
    "\n",
    "You need to try at least 3 different clustering models from sklearn library (kmeans and any other two models). [Link](https://scikit-learn.org/stable/modules/clustering.html)"
   ]
  },
  {
   "cell_type": "code",
   "execution_count": null,
   "metadata": {},
   "outputs": [],
   "source": [
    "#include libraries\n",
    "import pandas as pd\n",
    "import numpy as np\n",
    "\n",
    "#plotting\n",
    "import matplotlib.pyplot as plt\n",
    "# Though the following import is not directly being used, it is required\n",
    "# for 3D projection to work\n",
    "from mpl_toolkits.mplot3d import Axes3D\n",
    "\n",
    "#modelling\n",
    "from sklearn.cluster import KMeans\n",
    "from sklearn.cluster import DBSCAN\n",
    "\n",
    "#evaluation\n",
    "from sklearn import metrics\n",
    "\n",
    "from sklearn import datasets \n"
   ]
  },
  {
   "cell_type": "code",
   "execution_count": null,
   "metadata": {},
   "outputs": [],
   "source": [
    "data1= pd.read_csv('/home/nofe/lms/ds/finaldoc.csv')\n",
    "data2 = pd.read_csv('/home/nofe/lms/ds/finaldoc.csv')\n",
    "print(data1)\n"
   ]
  },
  {
   "cell_type": "code",
   "execution_count": null,
   "metadata": {},
   "outputs": [],
   "source": [
    "data2 = data2[['LPR','PEG','UNS']]\n",
    "(data2)"
   ]
  },
  {
   "cell_type": "code",
   "execution_count": null,
   "metadata": {},
   "outputs": [],
   "source": [
    "#Factorizing the Class column\n",
    "data1.UNS = pd.factorize(data1.UNS)[0]\n",
    "data2.UNS = pd.factorize(data2.UNS)[0]\n",
    "print(data1)"
   ]
  },
  {
   "cell_type": "code",
   "execution_count": null,
   "metadata": {},
   "outputs": [],
   "source": [
    "data2\n",
    "data1.shape\n",
    "data2.shape\n",
    "data1.info()"
   ]
  },
  {
   "cell_type": "code",
   "execution_count": null,
   "metadata": {},
   "outputs": [],
   "source": [
    "print(data1.UNS.values)\n",
    "print(data2.UNS.values)\n",
    "\n"
   ]
  },
  {
   "cell_type": "code",
   "execution_count": null,
   "metadata": {},
   "outputs": [],
   "source": [
    "\n",
    "X = data1.drop('UNS', axis=1).values\n",
    "\n",
    "labels_true = data1.values[:, 4].astype(int)\n",
    "labels_true = data1.values[:, 4]"
   ]
  },
  {
   "cell_type": "code",
   "execution_count": null,
   "metadata": {},
   "outputs": [],
   "source": [
    "X = data2.drop('UNS', axis=1).values\n",
    "\n",
    "labels_true2 = data2.values[:, 4].astype(int)\n",
    "labels_true2 = data2.values[:, 4]"
   ]
  },
  {
   "cell_type": "code",
   "execution_count": null,
   "metadata": {},
   "outputs": [],
   "source": [
    "#Creating the KMeans object and fitting it to the Iris data\n",
    "data1_kmeans = KMeans(n_clusters=3)\n",
    "data1_kmeans.fit(X)\n",
    "\n",
    "# Predicting the cluster labels\n",
    "labels = data1_kmeans.predict(X)\n",
    "\n",
    "\n",
    "#print predicted and true lables\n",
    "print(labels)\n",
    "print(labels_true)\n",
    "\n",
    "# Finding the final centroids\n",
    "centroids = data1_kmeans.cluster_centers_\n",
    "print(centroids)\n",
    "\n",
    "df_labels = pd.DataFrame()\n",
    "df_labels['Predicted Labels'] = pd.Series(labels)\n",
    "df_labels['True Labels'] = pd.Series(labels_true)\n",
    "\n",
    "df_labels"
   ]
  },
  {
   "cell_type": "code",
   "execution_count": null,
   "metadata": {},
   "outputs": [],
   "source": [
    "#Creating the KMeans object and fitting it to the Iris data\n",
    "data2_kmeans = KMeans(n_clusters=3)\n",
    "data2_kmeans.fit(X)\n",
    "\n",
    "# Predicting the cluster labels\n",
    "labels2 = data1_kmeans.predict(X)\n",
    "\n",
    "\n",
    "#print predicted and true lables\n",
    "print(labels2)\n",
    "print(labels_true2)\n",
    "\n",
    "# Finding the final centroids\n",
    "centroid2s = data2_kmeans.cluster_centers_\n",
    "print(centroids)\n",
    "\n",
    "df_labels2 = pd.DataFrame()\n",
    "df_labels2['Predicted Labels'] = pd.Series(labels)\n",
    "df_labels2['True Labels'] = pd.Series(labels_true)\n",
    "\n",
    "df_labels2"
   ]
  },
  {
   "cell_type": "code",
   "execution_count": null,
   "metadata": {},
   "outputs": [],
   "source": [
    "# Evaluating the quality of clusters\n",
    "print(\"Homogeneity: %0.3f\" % metrics.homogeneity_score(labels_true, labels))\n",
    "print(\"Completeness: %0.3f\" % metrics.completeness_score(labels_true, labels))\n",
    "print(\"V-measure: %0.3f\" % metrics.v_measure_score(labels_true, labels))\n",
    "print(\"Adjusted Rand Index: %0.3f\"\n",
    "      % metrics.adjusted_rand_score(labels_true, labels))\n",
    "print(\"Adjusted Mutual Information: %0.3f\"\n",
    "      % metrics.adjusted_mutual_info_score(labels_true, labels))\n",
    "print(\"Silhouette Coefficient: %0.3f\"\n",
    "      % metrics.silhouette_score(X, labels))"
   ]
  },
  {
   "cell_type": "code",
   "execution_count": null,
   "metadata": {},
   "outputs": [],
   "source": [
    "# Evaluating the quality of clusters\n",
    "print(\"Homogeneity: %0.3f\" % metrics.homogeneity_score(labels_true2, labels2))\n",
    "print(\"Completeness: %0.3f\" % metrics.completeness_score(labels_true2, labels2))\n",
    "print(\"V-measure: %0.3f\" % metrics.v_measure_score(labels_true2, labels2))\n",
    "print(\"Adjusted Rand Index: %0.3f\"\n",
    "      % metrics.adjusted_rand_score(labels_true2, labels2))\n",
    "print(\"Adjusted Mutual Information: %0.3f\"\n",
    "      % metrics.adjusted_mutual_info_score(labels_true2, labels2))\n",
    "print(\"Silhouette Coefficient: %0.3f\"\n",
    "      % metrics.silhouette_score(X2, labels2))"
   ]
  },
  {
   "cell_type": "code",
   "execution_count": null,
   "metadata": {},
   "outputs": [],
   "source": [
    "#Visualizing the cluster\n",
    "plt.scatter(X[:,0], X[:,1], c = labels, cmap='rainbow')\n",
    "plt.title('KMeans with %d clusters' % data1_kmeans.n_clusters)\n",
    "plt.show()"
   ]
  },
  {
   "cell_type": "code",
   "execution_count": null,
   "metadata": {},
   "outputs": [],
   "source": [
    "#Visualizing the cluster\n",
    "plt.scatter(X[:,0], X[:,1], c = labels, cmap='rainbow')\n",
    "plt.title('KMeans with %d clusters' % data2_kmeans.n_clusters)\n",
    "plt.show()"
   ]
  },
  {
   "cell_type": "code",
   "execution_count": null,
   "metadata": {},
   "outputs": [],
   "source": [
    "unique_labels = set(labels)\n",
    "colors = plt.cm.Spectral(np.linspace(0, 1, len(unique_labels)))\n",
    "class_member_mask = labels\n",
    "for k, col in zip(unique_labels, colors):\n",
    "    if k == -1:\n",
    "        # Black used for noise\n",
    "        col = 'k'\n",
    "    \n",
    "    class_member_mask = (labels == k)\n",
    "    xy = X[class_member_mask & core_samples_mask]\n",
    "    plt.plot(xy[:, 0], xy[:, 1], 'o', markerfacecolor=col,\n",
    "    markeredgecolor='k', markersize=10)\n",
    "    xy = X[class_member_mask & ~core_samples_mask]\n",
    "    plt.plot(xy[:, 0], xy[:, 1], 'o', markerfacecolor=col,\n",
    "    markeredgecolor='k', markersize=5)\n",
    "plt.title('KMeans with %d clusters' % data1_kmeans.n_clusters)\n",
    "plt.show()"
   ]
  },
  {
   "cell_type": "code",
   "execution_count": null,
   "metadata": {},
   "outputs": [],
   "source": [
    "unique_labels2 = set(labels2)\n",
    "colors = plt.cm.Spectral(np.linspace(0, 1, len(unique_labels2)))\n",
    "class_member_mask = labels2\n",
    "for k, col in zip(unique_labels2, colors):\n",
    "    if k == -1:\n",
    "        # Black used for noise\n",
    "        col = 'k'\n",
    "    \n",
    "    class_member_mask = (labels2 == k)\n",
    "    xy = X[class_member_mask & core_samples_mask]\n",
    "    plt.plot(xy[:, 0], xy[:, 1], 'o', markerfacecolor=col,\n",
    "    markeredgecolor='k', markersize=10)\n",
    "    xy = X[class_member_mask & ~core_samples_mask]\n",
    "    plt.plot(xy[:, 0], xy[:, 1], 'o', markerfacecolor=col,\n",
    "    markeredgecolor='k', markersize=5)\n",
    "plt.title('KMeans with %d clusters' % data2_kmeans2.n_clusters)\n",
    "plt.show()"
   ]
  },
  {
   "cell_type": "code",
   "execution_count": null,
   "metadata": {},
   "outputs": [],
   "source": [
    "##Creating an object of DBSCAN\n",
    "data1_dbscan = DBSCAN()\n",
    "\n",
    "#fitting the model\n",
    "data1_dbscan.fit(X)\n",
    "\n",
    "# get the model labels\n",
    "labels = data1_dbscan.labels_\n",
    "\n",
    "\n",
    "\n",
    "# label=-1 means the point is an outlier. Rest of the values represent the label/cluster number starting from 0\n",
    "\n",
    "#print predicted and true lables\n",
    "print(labels)\n",
    "print(labels_true)\n",
    "\n",
    "\n",
    "df_labels = pd.DataFrame()\n",
    "df_labels['Predicted Labels'] = pd.Series(labels)\n",
    "df_labels['True Labels'] = pd.Series(labels_true)\n",
    "\n",
    "print(df_labels)"
   ]
  },
  {
   "cell_type": "code",
   "execution_count": null,
   "metadata": {},
   "outputs": [],
   "source": [
    "# Creating a numpy array with all values set to false by default\n",
    "core_samples_mask = np.zeros_like(labels, dtype=bool)\n",
    "\n",
    "# Setting core and border points (all points that are not -1) to True\n",
    "core_samples_mask[data1_dbscan.core_sample_indices_] = True\n",
    "\n",
    "# Finding the number of clusters in labels (ignoring noise if present)\n",
    "n_clusters_ = len(set(labels)) - (1 if -1 in labels else 0)\n",
    "n_noise_ = list(labels).count(-1)\n",
    "\n",
    "# Printing the number of clusters and number of noise points (outliers)\n",
    "print('Estimated number of clusters: %d' % n_clusters_)\n",
    "print('Estimated number of noise points: %d' % n_noise_)"
   ]
  },
  {
   "cell_type": "code",
   "execution_count": null,
   "metadata": {},
   "outputs": [],
   "source": [
    "# Evaluating the quality of clusters\n",
    "print(\"Homogeneity: %0.3f\" % metrics.homogeneity_score(labels_true, labels))\n",
    "print(\"Completeness: %0.3f\" % metrics.completeness_score(labels_true, labels))\n",
    "print(\"V-measure: %0.3f\" % metrics.v_measure_score(labels_true, labels))\n",
    "print(\"Adjusted Rand Index: %0.3f\"\n",
    "      % metrics.adjusted_rand_score(labels_true, labels))\n",
    "print(\"Adjusted Mutual Information: %0.3f\"\n",
    "      % metrics.adjusted_mutual_info_score(labels_true, labels))\n",
    "print(\"Silhouette Coefficient: %0.3f\"\n",
    "      % metrics.silhouette_score(X, labels))"
   ]
  },
  {
   "cell_type": "code",
   "execution_count": null,
   "metadata": {},
   "outputs": [],
   "source": [
    "#Visualizing the cluster\n",
    "plt.scatter(X[:,0], X[:,1], c = labels, cmap='rainbow')\n",
    "plt.title('DBSCAN with Estimated number of clusters: %d' % n_clusters_)\n",
    "plt.show()"
   ]
  },
  {
   "cell_type": "code",
   "execution_count": null,
   "metadata": {},
   "outputs": [],
   "source": [
    "unique_labels = set(labels)\n",
    "colors = plt.cm.Spectral(np.linspace(0, 1, len(unique_labels)))\n",
    "for k, col in zip(unique_labels, colors):\n",
    "    if k == -1:\n",
    "        # Black used for noise\n",
    "        col = 'k'\n",
    "    \n",
    "    class_member_mask = (labels == k)\n",
    "    xy = X[class_member_mask & core_samples_mask]\n",
    "    plt.plot(xy[:, 0], xy[:, 1], 'o', markerfacecolor=col,\n",
    "    markeredgecolor='k', markersize=10)\n",
    "    xy = X[class_member_mask & ~core_samples_mask]\n",
    "    plt.plot(xy[:, 0], xy[:, 1], 'o', markerfacecolor=col,\n",
    "    markeredgecolor='k', markersize=5)\n",
    "plt.title('Estimated number of clusters: %d' % n_clusters_)\n",
    "plt.show()"
   ]
  },
  {
   "cell_type": "code",
   "execution_count": null,
   "metadata": {},
   "outputs": [],
   "source": [
    "\n",
    "X = data1.data\n",
    "y = data1.target\n",
    "\n",
    "estimators = [('k_means_data_3', KMeans(n_clusters=3)),('k_means_data_2', KMeans(n_clusters=2)),('DBSCAN', DBSCAN())]\n",
    "\n",
    "fignum = 1\n",
    "titles = ['K-Mean 3 clusters', 'K-Mean 2 clusters', 'DBSCAN']\n",
    "for name, est in estimators:\n",
    "    fig = plt.figure(fignum, figsize=(6, 5))\n",
    "    ax = Axes3D(fig, rect=[0, 0, .95, 1], elev=48, azim=134)\n",
    "    est.fit(X)\n",
    "    labels = est.labels_\n",
    "\n",
    "    ax.scatter(X[:, 3], X[:, 0], X[:, 2],\n",
    "               c=labels.astype(float), edgecolor='k')\n",
    "    ax.w_xaxis.set_ticklabels([])\n",
    "    ax.w_yaxis.set_ticklabels([])\n",
    "    ax.w_zaxis.set_ticklabels([])\n",
    "    ax.set_xlabel('LPR')\n",
    "    ax.set_ylabel('PEG')\n",
    "    ax.set_zlabel('UNS')\n",
    "    ax.set_title(titles[fignum - 1])\n",
    "    ax.dist = 12\n",
    "    fignum = fignum + 1\n",
    "\n",
    "\n",
    "fig.show()"
   ]
  }
 ],
 "metadata": {
  "kernelspec": {
   "display_name": "Python 3",
   "language": "python",
   "name": "python3"
  },
  "language_info": {
   "codemirror_mode": {
    "name": "ipython",
    "version": 3
   },
   "file_extension": ".py",
   "mimetype": "text/x-python",
   "name": "python",
   "nbconvert_exporter": "python",
   "pygments_lexer": "ipython3",
   "version": "3.7.3"
  }
 },
 "nbformat": 4,
 "nbformat_minor": 4
}
